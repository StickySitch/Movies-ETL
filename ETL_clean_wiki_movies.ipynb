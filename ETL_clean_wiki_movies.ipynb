{
 "cells": [
  {
   "cell_type": "code",
   "execution_count": 84,
   "metadata": {},
   "outputs": [],
   "source": [
    "import json\n",
    "import pandas as pd\n",
    "import numpy as np\n",
    "import re\n",
    "from sqlalchemy import create_engine\n",
    "from config import db_password\n",
    "import time\n",
    "import psycopg2\n"
   ]
  },
  {
   "cell_type": "code",
   "execution_count": 85,
   "metadata": {},
   "outputs": [],
   "source": [
    "# 1. Add the clean movie function that takes in the argument, \"movie\".\n",
    "def clean_movie(movie):\n",
    "    #creating a non-destructive copy\n",
    "    movie = dict(movie)\n",
    "    alt_titles = {}\n",
    "    # combine alternate titles into one list\n",
    "    for key in ['Also known as','Arabic','Cantonese',            'Chinese','French',\n",
    "                'Hangul','Hebrew','Hepburn','Japanese','Literally',\n",
    "                'Mandarin','McCune–Reischauer','Original title','Polish',\n",
    "                'Revised Romanization','Romanized','Russian',\n",
    "                'Simplified','Traditional','Yiddish']:\n",
    "        if key in movie:\n",
    "            alt_titles[key] = movie[key]\n",
    "            movie.pop(key)\n",
    "\n",
    "    if len(alt_titles) > 0:\n",
    "        movie['alt_titles'] = alt_titles\n",
    "    def change_column_name(old_name,new_name):\n",
    "        if old_name in movie:\n",
    "            movie[new_name] = movie.pop(old_name)\n",
    "\n",
    "    # Merging columns with the same values\n",
    "    change_column_name('Adaptation by', 'Writer(s)')\n",
    "    change_column_name('Country of origin', 'Country')\n",
    "    change_column_name('Directed by', 'Director')\n",
    "    change_column_name('Distributed by', 'Distributor')\n",
    "    change_column_name('Edited by', 'Editor(s)')\n",
    "    change_column_name('Length', 'Running time')\n",
    "    change_column_name('Original release', 'Release date')\n",
    "    change_column_name('Music by', 'Composer(s)')\n",
    "    change_column_name('Produced by', 'Producer(s)')\n",
    "    change_column_name('Producer', 'Producer(s)')\n",
    "    change_column_name('Productioncompanies ', 'Production company(s)')\n",
    "    change_column_name('Productioncompany ', 'Production company(s)')\n",
    "    change_column_name('Released', 'Release Date')\n",
    "    change_column_name('Release Date', 'Release date')\n",
    "    change_column_name('Screen story by', 'Writer(s)')\n",
    "    change_column_name('Screenplay by', 'Writer(s)')\n",
    "    change_column_name('Story by', 'Writer(s)')\n",
    "    change_column_name('Theme music composer', 'Composer(s)')\n",
    "    change_column_name('Written by', 'Writer(s)')\n",
    "\n",
    "    return movie"
   ]
  },
  {
   "cell_type": "code",
   "execution_count": 85,
   "outputs": [],
   "source": [],
   "metadata": {
    "collapsed": false,
    "pycharm": {
     "name": "#%%\n"
    }
   }
  },
  {
   "cell_type": "code",
   "execution_count": 86,
   "metadata": {},
   "outputs": [],
   "source": [
    "# 2 Add the function that takes in three arguments;\n",
    "# Wikipedia data, Kaggle metadata, and MovieLens rating data (from Kaggle)\n",
    "\n",
    "def extract_transform_load(wikiData, kaggleData, lensRatingData):\n",
    "    # Read in the kaggle metadata and MovieLens ratings CSV files as Pandas DataFrames.\n",
    "    kaggleMeta = pd.read_csv(kaggleData, low_memory=False)\n",
    "    ratingLens = pd.read_csv(lensRatingData)\n",
    "\n",
    "    # Open and read the Wikipedia data JSON file.\n",
    "    with open (wikiData, mode='r') as file:\n",
    "        wikiMoviesRaw = json.load(file)\n",
    "    \n",
    "    # 3. Write a list comprehension to filter out TV shows.\n",
    "    wikiMovies = [movie for movie in wikiMoviesRaw\n",
    "                  if('Director' in movie or 'Directed by' in movie) and 'imdb_link'\n",
    "                  and 'No. of episodes' not in movie]\n",
    "\n",
    "    # 4. Write a list comprehension to iterate through the cleaned wiki movies list\n",
    "    # and call the clean_movie function on each movie.\n",
    "    cleanWikiMovies = [clean_movie(movie) for movie in wikiMovies]\n",
    "\n",
    "    # 5. Read in the cleaned movies list from Step 4 as a DataFrame.\n",
    "    cleanWikiMoviesDf = pd.DataFrame(cleanWikiMovies)\n",
    "\n",
    "\n",
    "    # 6. Write a try-except block to catch errors while extracting the IMDb ID using a regular expression string and\n",
    "    #  dropping any imdb_id duplicates. If there is an error, capture and print the exception.\n",
    "    try:\n",
    "        cleanWikiMoviesDf['imdb_id'] = cleanWikiMoviesDf['imdb_link'].str.extract(r'(tt\\d{7})')\n",
    "        cleanWikiMoviesDf.drop_duplicates(subset='imdb_id', inplace=True)\n",
    "    except ValueError as error:\n",
    "        print(f'Sorry, {error}')\n",
    "\n",
    "\n",
    "    #  7. Write a list comprehension to keep the columns that don't have null values from the wiki_movies_df DataFrame.\n",
    "    wikiKeepColumns = [column for column in cleanWikiMoviesDf.columns if cleanWikiMoviesDf[column].isnull().sum() < len(cleanWikiMoviesDf)]\n",
    "    wikiMoviesDf = cleanWikiMoviesDf[wikiKeepColumns]\n",
    "\n",
    "    # 8. Create a variable that will hold the non-null values from the “Box office” column.\n",
    "    # 9. Convert the box office data created in Step 8 to string values using the lambda and join functions.\n",
    "    boxOffice = wikiMoviesDf['Box office'].dropna().apply(lambda x: ' '.join(x) if type(x) == list else x)\n",
    "\n",
    "    # 10. Write a regular expression to match the six elements of \"form_one\" of the box office data.\n",
    "    formOne = r'\\$\\s*\\d+\\.?\\d*\\s*[mb]illi?on'\n",
    "    # 11. Write a regular expression to match the three elements of \"form_two\" of the box office data.\n",
    "    formTwo = r'\\$\\s*\\d{1,3}(?:[,\\.]\\d{3})+(?!\\s[mb]illi?on)'\n",
    "\n",
    "\n",
    "# 12. Add the parse_dollars function.\n",
    "    def parse_dollars(s):\n",
    "        # if s is not a string, return NaN\n",
    "        if type(s) != str:\n",
    "            return np.nan\n",
    "        # if input is of the form $###.# million\n",
    "        if re.match(r'\\$\\s*\\d+\\.?\\d*\\s*milli?on', s, flags=re.IGNORECASE):\n",
    "\n",
    "            # remove dollar sign and \" million\"\n",
    "            s = re.sub('\\$|\\s|[a-zA-Z]', '', s)\n",
    "            # convert to float and multiply by a million\n",
    "            value = float(s) * 10**6\n",
    "            # return value\n",
    "            return value\n",
    "        # if input is of the form $###.# billion\n",
    "        elif re.match(r'\\$\\s*\\d+\\.?\\d*\\s*billi?on',s, flags=re.IGNORECASE):\n",
    "\n",
    "            # remove dollar sign and \" billion\"\n",
    "            s= re.sub('\\$|\\s|[a-zA-Z]', '', s)\n",
    "            # convert to float and multiply by a billion\n",
    "            value = float(s) * 10**9\n",
    "            # return value\n",
    "            return value\n",
    "        # if input is of the form $###,###,###\n",
    "        elif re.match(r'\\$\\s*\\d{1,3}(?:[,\\.]\\d{3})+(?!\\s[mb]illion)',s,flags=re.IGNORECASE):\n",
    "\n",
    "            # remove dollar sign and commas\n",
    "            s = re.sub('\\$|,','',s)\n",
    "            # convert to float\n",
    "            value = float(s)\n",
    "            # return value\n",
    "            return value\n",
    "        # otherwise, return NaN\n",
    "        else:\n",
    "            return np.nan\n",
    "    \n",
    "        \n",
    "    # 13. Clean the box office column in the wiki_movies_df DataFrame.\n",
    "    boxOffice = boxOffice.str.replace(r'\\$.*[-—–](?![a-z])', '$', regex=True)\n",
    "\n",
    "    wikiMoviesDf['box_office'] = boxOffice.str.extract(f'({formOne}|{formTwo})', flags=re.IGNORECASE)[0].apply(parse_dollars)\n",
    "    wikiMoviesDf.drop('Box office', axis=1, inplace=True)\n",
    "\n",
    "\n",
    "    # 14. Clean the budget column in the wiki_movies_df DataFrame.\n",
    "    budget = wikiMoviesDf['Budget'].dropna().apply(lambda x: ' '.join(x) if type(x) == list else x)\n",
    "    budget = budget.str.replace(r'\\$.*[-—–](?![a-z])', '$', regex=True)\n",
    "\n",
    "    wikiMoviesDf['budget'] = budget.str.extract(f'({formOne}|{formTwo})', flags=re.IGNORECASE)[0].apply(parse_dollars)\n",
    "    wikiMoviesDf.drop('Budget', axis=1, inplace=True)\n",
    "\n",
    "    # 15. Clean the release date column in the wiki_movies_df DataFrame.\n",
    "    releaseDate = wikiMoviesDf['Release date'].dropna().apply(lambda x: ' '.join(x) if type(x) == list else x)\n",
    "    dateFromOne = r'(?:January|February|March|April|May|June|July|August|September|October|November|December)\\s[123]?\\d,\\s\\d{4}'\n",
    "    dateFormTwo = r'\\d{4}.[01]\\d.[0123]\\d'\n",
    "    dateFormThree = r'(?:January|February|March|April|May|June|July|August|September|October|November|December)\\s\\d{4}'\n",
    "    dateFormFour = r'\\d{4}'\n",
    "    wikiMoviesDf['release_date'] = pd.to_datetime(releaseDate.str.extract(f'({dateFromOne}|{dateFormTwo}|{dateFormThree}|{dateFormFour})')[0], infer_datetime_format=True)\n",
    "    wikiMoviesDf.drop('Release date', axis=1, inplace=True)\n",
    "\n",
    "\n",
    "    # 16. Clean the running time column in the wiki_movies_df DataFrame.\n",
    "    runningTime = wikiMoviesDf['Running time'].dropna().apply(lambda x: ' '.join(x) if type(x) == list else x)\n",
    "\n",
    "    runningTimeExtract = runningTime.str.extract(r'(\\d+)\\s*ho?u?r?s?\\s*(\\d*)|(\\d+)\\s*m')\n",
    "\n",
    "    runningTimeExtract = runningTimeExtract.apply(lambda col: pd.to_numeric(col, errors='coerce')).fillna(0)\n",
    "\n",
    "    wikiMoviesDf['running_time'] = runningTimeExtract.apply(lambda row: row[0]*60 + row[1] if row[2] == 0 else row[2], axis=1)\n",
    "    wikiMoviesDf.drop('Running time', axis=1, inplace=True)\n",
    "\n",
    "    # Return three variables. The first is the wiki_movies_df DataFrame\n",
    "    \n",
    "    return wikiMoviesDf, kaggleMeta, ratingLens"
   ]
  },
  {
   "cell_type": "code",
   "execution_count": 87,
   "metadata": {},
   "outputs": [],
   "source": [
    "# 17. Create the path to your file directory and variables for the three files.\n",
    "file_dir = 'Resources'\n",
    "# The Wikipedia data\n",
    "wiki_file = f'{file_dir}/wikipedia-movies.json'\n",
    "# The Kaggle metadata\n",
    "kaggle_file = f'{file_dir}/movies_metadata.csv'\n",
    "# The MovieLens rating data.\n",
    "ratings_file = f'{file_dir}/ratings.csv'"
   ]
  },
  {
   "cell_type": "code",
   "execution_count": 88,
   "metadata": {},
   "outputs": [
    {
     "name": "stderr",
     "output_type": "stream",
     "text": [
      "<ipython-input-86-dd020c4d7f8f>:88: SettingWithCopyWarning: \n",
      "A value is trying to be set on a copy of a slice from a DataFrame.\n",
      "Try using .loc[row_indexer,col_indexer] = value instead\n",
      "\n",
      "See the caveats in the documentation: https://pandas.pydata.org/pandas-docs/stable/user_guide/indexing.html#returning-a-view-versus-a-copy\n",
      "  wikiMoviesDf['box_office'] = boxOffice.str.extract(f'({formOne}|{formTwo})', flags=re.IGNORECASE)[0].apply(parse_dollars)\n",
      "C:\\Users\\fuzzy\\anaconda3\\lib\\site-packages\\pandas\\core\\frame.py:4308: SettingWithCopyWarning: \n",
      "A value is trying to be set on a copy of a slice from a DataFrame\n",
      "\n",
      "See the caveats in the documentation: https://pandas.pydata.org/pandas-docs/stable/user_guide/indexing.html#returning-a-view-versus-a-copy\n",
      "  return super().drop(\n",
      "<ipython-input-86-dd020c4d7f8f>:96: SettingWithCopyWarning: \n",
      "A value is trying to be set on a copy of a slice from a DataFrame.\n",
      "Try using .loc[row_indexer,col_indexer] = value instead\n",
      "\n",
      "See the caveats in the documentation: https://pandas.pydata.org/pandas-docs/stable/user_guide/indexing.html#returning-a-view-versus-a-copy\n",
      "  wikiMoviesDf['budget'] = budget.str.extract(f'({formOne}|{formTwo})', flags=re.IGNORECASE)[0].apply(parse_dollars)\n",
      "<ipython-input-86-dd020c4d7f8f>:105: SettingWithCopyWarning: \n",
      "A value is trying to be set on a copy of a slice from a DataFrame.\n",
      "Try using .loc[row_indexer,col_indexer] = value instead\n",
      "\n",
      "See the caveats in the documentation: https://pandas.pydata.org/pandas-docs/stable/user_guide/indexing.html#returning-a-view-versus-a-copy\n",
      "  wikiMoviesDf['release_date'] = pd.to_datetime(releaseDate.str.extract(f'({dateFromOne}|{dateFormTwo}|{dateFormThree}|{dateFormFour})')[0], infer_datetime_format=True)\n",
      "<ipython-input-86-dd020c4d7f8f>:116: SettingWithCopyWarning: \n",
      "A value is trying to be set on a copy of a slice from a DataFrame.\n",
      "Try using .loc[row_indexer,col_indexer] = value instead\n",
      "\n",
      "See the caveats in the documentation: https://pandas.pydata.org/pandas-docs/stable/user_guide/indexing.html#returning-a-view-versus-a-copy\n",
      "  wikiMoviesDf['running_time'] = runningTimeExtract.apply(lambda row: row[0]*60 + row[1] if row[2] == 0 else row[2], axis=1)\n"
     ]
    }
   ],
   "source": [
    "# 18. Set the three variables equal to the function created in D1.\n",
    "wiki_file, kaggle_file, ratings_file = extract_transform_load(wiki_file,kaggle_file,ratings_file)"
   ]
  },
  {
   "cell_type": "code",
   "execution_count": 89,
   "metadata": {},
   "outputs": [],
   "source": [
    "# 19. Set the wiki_movies_df equal to the wiki_file variable. \n",
    "wiki_movies_df = wiki_file"
   ]
  },
  {
   "cell_type": "code",
   "execution_count": 90,
   "metadata": {},
   "outputs": [
    {
     "data": {
      "text/plain": "                                                  url  year  \\\n0   https://en.wikipedia.org/wiki/The_Adventures_o...  1990   \n1   https://en.wikipedia.org/wiki/After_Dark,_My_S...  1990   \n2    https://en.wikipedia.org/wiki/Air_America_(film)  1990   \n3     https://en.wikipedia.org/wiki/Alice_(1990_film)  1990   \n4       https://en.wikipedia.org/wiki/Almost_an_Angel  1990   \n5         https://en.wikipedia.org/wiki/The_Ambulance  1990   \n6   https://en.wikipedia.org/wiki/American_Dream_(...  1990   \n7   https://en.wikipedia.org/wiki/American_Ninja_4...  1990   \n8      https://en.wikipedia.org/wiki/Andre%27s_Mother  1990   \n9     https://en.wikipedia.org/wiki/Angel_Town_(film)  1990   \n10      https://en.wikipedia.org/wiki/Another_48_Hrs.  1990   \n11  https://en.wikipedia.org/wiki/Arachnophobia_(f...  1990   \n12   https://en.wikipedia.org/wiki/Avalon_(1990_film)  1990   \n13           https://en.wikipedia.org/wiki/Awakenings  1990   \n14  https://en.wikipedia.org/wiki/Back_to_the_Futu...  1990   \n15  https://en.wikipedia.org/wiki/Bad_Influence_(f...  1990   \n16        https://en.wikipedia.org/wiki/Basket_Case_2  1990   \n17    https://en.wikipedia.org/wiki/Betsy%27s_Wedding  1990   \n18  https://en.wikipedia.org/wiki/Bird_on_a_Wire_(...  1990   \n19  https://en.wikipedia.org/wiki/Blind_Faith_(199...  1990   \n\n                                imdb_link                               title  \\\n0   https://www.imdb.com/title/tt0098987/     The Adventures of Ford Fairlane   \n1   https://www.imdb.com/title/tt0098994/                After Dark, My Sweet   \n2   https://www.imdb.com/title/tt0099005/                         Air America   \n3   https://www.imdb.com/title/tt0099012/                               Alice   \n4   https://www.imdb.com/title/tt0099018/                     Almost an Angel   \n5   https://www.imdb.com/title/tt0099026/                       The Ambulance   \n6   https://www.imdb.com/title/tt0099028/                      American Dream   \n7   https://www.imdb.com/title/tt0101326/  American Ninja 4: The Annihilation   \n8   https://www.imdb.com/title/tt0099037/                      Andre's Mother   \n9   https://www.imdb.com/title/tt0099039/                          Angel Town   \n10  https://www.imdb.com/title/tt0099044/                     Another 48 Hrs.   \n11  https://www.imdb.com/title/tt0099052/                       Arachnophobia   \n12  https://www.imdb.com/title/tt0099073/                              Avalon   \n13  https://www.imdb.com/title/tt0099077/                          Awakenings   \n14  https://www.imdb.com/title/tt0099088/         Back to the Future Part III   \n15  https://www.imdb.com/title/tt0099091/                       Bad Influence   \n16  https://www.imdb.com/title/tt0099108/                       Basket Case 2   \n17  https://www.imdb.com/title/tt0099128/                     Betsy's Wedding   \n18  https://www.imdb.com/title/tt0099141/                      Bird on a Wire   \n19  https://www.imdb.com/title/tt0099148/                         Blind Faith   \n\n                                             Based on  \\\n0                         [Characters, by Rex Weiner]   \n1   [the novel, After Dark, My Sweet, by, Jim Thom...   \n2              [Air America, by, Christopher Robbins]   \n3                                                 NaN   \n4                                                 NaN   \n5                                                 NaN   \n6                                                 NaN   \n7                                                 NaN   \n8                                                 NaN   \n9                                                 NaN   \n10  [Characters by, Roger Spottiswoode, Walter Hil...   \n11                                                NaN   \n12                                                NaN   \n13                     [Awakenings, by, Oliver Sacks]   \n14                                                NaN   \n15                                                NaN   \n16                                                NaN   \n17                                                NaN   \n18                                                NaN   \n19                   [Blind Faith, by, Joe McGinniss]   \n\n                                             Starring         Narrated by  \\\n0   [Andrew Dice Clay, Wayne Newton, Priscilla Pre...  Andrew \"Dice\" Clay   \n1   [Jason Patric, Rachel Ward, Bruce Dern, George...                 NaN   \n2   [Mel Gibson, Robert Downey Jr., Nancy Travis, ...                 NaN   \n3   [Alec Baldwin, Blythe Danner, Judy Davis, Mia ...                 NaN   \n4         [Paul Hogan, Elias Koteas, Linda Kozlowski]                 NaN   \n5   [Eric Roberts, James Earl Jones, Red Buttons, ...                 NaN   \n6                                                 NaN                 NaN   \n7   [Michael Dudikoff, David Bradley, James Booth,...                 NaN   \n8      [Richard Thomas, Sada Thompson, Sylvia Sidney]                 NaN   \n9   [Olivier Gruner, Theresa Saldana, Frank Aragon...                 NaN   \n10  [Eddie Murphy, Nick Nolte, Brion James, Ed O'R...                 NaN   \n11  [Jeff Daniels, Julian Sands, Harley Jane Kozak...                 NaN   \n12  [Armin Mueller-Stahl, Elizabeth Perkins, Joan ...                 NaN   \n13  [Robert De Niro, Robin Williams, John Heard, J...                 NaN   \n14  [Michael J. Fox, Christopher Lloyd, Mary Steen...                 NaN   \n15                           [Rob Lowe, James Spader]                 NaN   \n16                               Kevin Van Hentenryck                 NaN   \n17  [Alan Alda, Joey Bishop, Madeline Kahn, Cather...                 NaN   \n18  [Mel Gibson, Goldie Hawn, David Carradine, Bil...                 NaN   \n19  [Robert Urich, Joanna Kerns, David Barry Gray,...                 NaN   \n\n                                   Cinematography  \\\n0                                     Oliver Wood   \n1                                    Mark Plummer   \n2                                   Roger Deakins   \n3                                  Carlo Di Palma   \n4                                    Russell Boyd   \n5                                 Jacques Haitkin   \n6   [Tom Hurwitz, Mathieu Roberts, Nesya Shapiro]   \n7                                             NaN   \n8                                  Bobby Bukowski   \n9                                    John LeBlanc   \n10                            Matthew F. Leonetti   \n11                                 Mikael Salomon   \n12                                   Allen Daviau   \n13                              Miroslav Ondricek   \n14                                    Dean Cundey   \n15                                  Robert Elswit   \n16                              Robert M. Baldwin   \n17                                    Kelvin Pike   \n18                                  Robert Primes   \n19                                   Chuck Arnold   \n\n                            Country        Language  ...  \\\n0                     United States         English  ...   \n1                     United States         English  ...   \n2                     United States  [English, Lao]  ...   \n3                     United States         English  ...   \n4                                US         English  ...   \n5                     United States         English  ...   \n6   [United States, United Kingdom]         English  ...   \n7          [United States, Lesotho]         English  ...   \n8                     United States         English  ...   \n9                     United States         English  ...   \n10                    United States         English  ...   \n11                    United States         English  ...   \n12                    United States         English  ...   \n13                    United States         English  ...   \n14                    United States         English  ...   \n15                    United States         English  ...   \n16                              NaN         English  ...   \n17                    United States         English  ...   \n18                    United States         English  ...   \n19                    United States             NaN  ...   \n\n                                            Editor(s)  \\\n0                                     Michael Tronick   \n1                                     Howard E. Smith   \n2                      [John Bloom, Lois Freeman-Fox]   \n3                                      Susan E. Morse   \n4                                        David Stiven   \n5                  [Claudia Finkle, Armond Leibowitz]   \n6        [Cathy Caplan, Thomas Haneke, Lawrence Silk]   \n7                                                 NaN   \n8                                        Jeffrey Wolf   \n9                                      Duane Hartzell   \n10  [Donn Aron, Carmel Davies, Freeman A. Davies, ...   \n11                                       Michael Kahn   \n12                                         Stu Linder   \n13                    [Battle Davis, Jerry Greenberg]   \n14                  [Harry Keramidas, Arthur Schmidt]   \n15                                     Bonnie Koehler   \n16                                         Kevin Tent   \n17                                 Michael E. Polakow   \n18                      [Frank Morriss, Dallas Puett]   \n19                [Christopher Cooke, James Galloway]   \n\n                Composer(s)  \\\n0   [Cliff Eidelman, Yello]   \n1             Maurice Jarre   \n2             Charles Gross   \n3                       NaN   \n4             Maurice Jarre   \n5             Jay Chattaway   \n6             Michael Small   \n7                       NaN   \n8          Jonathan Sheffer   \n9             Terry Plumeri   \n10             James Horner   \n11             Trevor Jones   \n12             Randy Newman   \n13             Randy Newman   \n14           Alan Silvestri   \n15             Trevor Jones   \n16             Joe Renzetti   \n17          Bruce Broughton   \n18              Hans Zimmer   \n19       Laurence Rosenthal   \n\n                                          Producer(s)  \\\n0                          [Steve Perry, Joel Silver]   \n1                         [Ric Kidney, Robert Redlin]   \n2                                      Daniel Melnick   \n3                                     Robert Greenhut   \n4                                        John Cornell   \n5       [Larry Cohen, Moctesuma Esparza, Robert Katz]   \n6                       [Arthur Cohn, Barbara Kopple]   \n7                                  Ovidio G Assonitis   \n8                     [Sarah Green, Deborah Reinisch]   \n9                          [Ash R. Shah, Eric Karson]   \n10                 [Lawrence Gordon, Robert D. Wachs]   \n11                   [Kathleen Kennedy, Richard Vane]   \n12                     [Mark Johnson, Barry Levinson]   \n13                [Walter F. Parkes, Lawrence Lasker]   \n14                            [Neil Canton, Bob Gale]   \n15                                        Steve Tisch   \n16                                       Edgar Ievins   \n17                [Martin Bregman, Louis A. Stroller]   \n18                                          Rob Cohen   \n19  [Susan Baerwald (executive producer), Dan Wigu...   \n\n                                Production company(s)  \\\n0                                     Silver Pictures   \n1                                     Avenue Pictures   \n2               [Carolco Pictures, IndieProd Company]   \n3                                                 NaN   \n4                                                 NaN   \n5                                    Epic Productions   \n6   [Cabin Creek, Catholic Communication Campaign,...   \n7                                                 NaN   \n8                                                 NaN   \n9                                                 NaN   \n10                           Eddie Murphy Productions   \n11  [Hollywood Pictures, Amblin Entertainment, Tan...   \n12                                 Baltimore Pictures   \n13                          Lasker/Parkes Productions   \n14  [Amblin Entertainment, [1], Universal Pictures...   \n15                                   Epic Productions   \n16                                                NaN   \n17                                Touchstone Pictures   \n18  [Interscope Communications, The Badham/Cohen G...   \n19                                    NBC Productions   \n\n                         Writer(s)    imdb_id   box_office      budget  \\\n0      [David Arnott, James Cappe]  tt0098987   21400000.0  20000000.0   \n1     [James Foley, Robert Redlin]  tt0098994    2700000.0   6000000.0   \n2       [John Eskow, Richard Rush]  tt0099005   57718089.0  35000000.0   \n3                      Woody Allen  tt0099012    7331647.0  12000000.0   \n4                       Paul Hogan  tt0099018    6939946.0  25000000.0   \n5                      Larry Cohen  tt0099026          NaN         NaN   \n6                              NaN  tt0099028          NaN         NaN   \n7                     David Geeves  tt0101326          NaN         NaN   \n8                 Terrence McNally  tt0099037          NaN         NaN   \n9                        S. Warren  tt0099039     855810.0         NaN   \n10                  Fred Braughton  tt0099044  195300000.0  50000000.0   \n11       [Don Jakoby, Al Williams]  tt0099052   53200000.0  22000000.0   \n12                  Barry Levinson  tt0099073   15700000.0         NaN   \n13                 Steven Zaillian  tt0099077   52100000.0  29000000.0   \n14     [Robert Zemeckis, Bob Gale]  tt0099088  244500000.0  40000000.0   \n15                     David Koepp  tt0099091   12626043.0   7000000.0   \n16               Frank Henenlotter  tt0099108          NaN   2500000.0   \n17                       Alan Alda  tt0099128   19740070.0         NaN   \n18  [Louis Venosta, David Seltzer]  tt0099141  138697012.0  20000000.0   \n19                   Joe McGinniss  tt0099148          NaN         NaN   \n\n    release_date  running_time  \n0     1990-07-11         102.0  \n1     1990-05-17         114.0  \n2     1990-08-10         113.0  \n3     1990-12-25         106.0  \n4     1990-12-19          95.0  \n5     1990-03-22          95.0  \n6     1990-10-06         100.0  \n7     1991-03-08          99.0  \n8     1990-03-07          50.0  \n9     1990-02-23         102.0  \n10    1990-06-08          93.0  \n11    1990-07-18         110.0  \n12    1990-10-05         126.0  \n13    1990-12-20         121.0  \n14    1990-05-25         118.0  \n15    1990-03-09          99.0  \n16    1990-03-02          90.0  \n17    1990-06-22          94.0  \n18    1990-05-18         110.0  \n19    1990-02-11         190.0  \n\n[20 rows x 22 columns]",
      "text/html": "<div>\n<style scoped>\n    .dataframe tbody tr th:only-of-type {\n        vertical-align: middle;\n    }\n\n    .dataframe tbody tr th {\n        vertical-align: top;\n    }\n\n    .dataframe thead th {\n        text-align: right;\n    }\n</style>\n<table border=\"1\" class=\"dataframe\">\n  <thead>\n    <tr style=\"text-align: right;\">\n      <th></th>\n      <th>url</th>\n      <th>year</th>\n      <th>imdb_link</th>\n      <th>title</th>\n      <th>Based on</th>\n      <th>Starring</th>\n      <th>Narrated by</th>\n      <th>Cinematography</th>\n      <th>Country</th>\n      <th>Language</th>\n      <th>...</th>\n      <th>Editor(s)</th>\n      <th>Composer(s)</th>\n      <th>Producer(s)</th>\n      <th>Production company(s)</th>\n      <th>Writer(s)</th>\n      <th>imdb_id</th>\n      <th>box_office</th>\n      <th>budget</th>\n      <th>release_date</th>\n      <th>running_time</th>\n    </tr>\n  </thead>\n  <tbody>\n    <tr>\n      <th>0</th>\n      <td>https://en.wikipedia.org/wiki/The_Adventures_o...</td>\n      <td>1990</td>\n      <td>https://www.imdb.com/title/tt0098987/</td>\n      <td>The Adventures of Ford Fairlane</td>\n      <td>[Characters, by Rex Weiner]</td>\n      <td>[Andrew Dice Clay, Wayne Newton, Priscilla Pre...</td>\n      <td>Andrew \"Dice\" Clay</td>\n      <td>Oliver Wood</td>\n      <td>United States</td>\n      <td>English</td>\n      <td>...</td>\n      <td>Michael Tronick</td>\n      <td>[Cliff Eidelman, Yello]</td>\n      <td>[Steve Perry, Joel Silver]</td>\n      <td>Silver Pictures</td>\n      <td>[David Arnott, James Cappe]</td>\n      <td>tt0098987</td>\n      <td>21400000.0</td>\n      <td>20000000.0</td>\n      <td>1990-07-11</td>\n      <td>102.0</td>\n    </tr>\n    <tr>\n      <th>1</th>\n      <td>https://en.wikipedia.org/wiki/After_Dark,_My_S...</td>\n      <td>1990</td>\n      <td>https://www.imdb.com/title/tt0098994/</td>\n      <td>After Dark, My Sweet</td>\n      <td>[the novel, After Dark, My Sweet, by, Jim Thom...</td>\n      <td>[Jason Patric, Rachel Ward, Bruce Dern, George...</td>\n      <td>NaN</td>\n      <td>Mark Plummer</td>\n      <td>United States</td>\n      <td>English</td>\n      <td>...</td>\n      <td>Howard E. Smith</td>\n      <td>Maurice Jarre</td>\n      <td>[Ric Kidney, Robert Redlin]</td>\n      <td>Avenue Pictures</td>\n      <td>[James Foley, Robert Redlin]</td>\n      <td>tt0098994</td>\n      <td>2700000.0</td>\n      <td>6000000.0</td>\n      <td>1990-05-17</td>\n      <td>114.0</td>\n    </tr>\n    <tr>\n      <th>2</th>\n      <td>https://en.wikipedia.org/wiki/Air_America_(film)</td>\n      <td>1990</td>\n      <td>https://www.imdb.com/title/tt0099005/</td>\n      <td>Air America</td>\n      <td>[Air America, by, Christopher Robbins]</td>\n      <td>[Mel Gibson, Robert Downey Jr., Nancy Travis, ...</td>\n      <td>NaN</td>\n      <td>Roger Deakins</td>\n      <td>United States</td>\n      <td>[English, Lao]</td>\n      <td>...</td>\n      <td>[John Bloom, Lois Freeman-Fox]</td>\n      <td>Charles Gross</td>\n      <td>Daniel Melnick</td>\n      <td>[Carolco Pictures, IndieProd Company]</td>\n      <td>[John Eskow, Richard Rush]</td>\n      <td>tt0099005</td>\n      <td>57718089.0</td>\n      <td>35000000.0</td>\n      <td>1990-08-10</td>\n      <td>113.0</td>\n    </tr>\n    <tr>\n      <th>3</th>\n      <td>https://en.wikipedia.org/wiki/Alice_(1990_film)</td>\n      <td>1990</td>\n      <td>https://www.imdb.com/title/tt0099012/</td>\n      <td>Alice</td>\n      <td>NaN</td>\n      <td>[Alec Baldwin, Blythe Danner, Judy Davis, Mia ...</td>\n      <td>NaN</td>\n      <td>Carlo Di Palma</td>\n      <td>United States</td>\n      <td>English</td>\n      <td>...</td>\n      <td>Susan E. Morse</td>\n      <td>NaN</td>\n      <td>Robert Greenhut</td>\n      <td>NaN</td>\n      <td>Woody Allen</td>\n      <td>tt0099012</td>\n      <td>7331647.0</td>\n      <td>12000000.0</td>\n      <td>1990-12-25</td>\n      <td>106.0</td>\n    </tr>\n    <tr>\n      <th>4</th>\n      <td>https://en.wikipedia.org/wiki/Almost_an_Angel</td>\n      <td>1990</td>\n      <td>https://www.imdb.com/title/tt0099018/</td>\n      <td>Almost an Angel</td>\n      <td>NaN</td>\n      <td>[Paul Hogan, Elias Koteas, Linda Kozlowski]</td>\n      <td>NaN</td>\n      <td>Russell Boyd</td>\n      <td>US</td>\n      <td>English</td>\n      <td>...</td>\n      <td>David Stiven</td>\n      <td>Maurice Jarre</td>\n      <td>John Cornell</td>\n      <td>NaN</td>\n      <td>Paul Hogan</td>\n      <td>tt0099018</td>\n      <td>6939946.0</td>\n      <td>25000000.0</td>\n      <td>1990-12-19</td>\n      <td>95.0</td>\n    </tr>\n    <tr>\n      <th>5</th>\n      <td>https://en.wikipedia.org/wiki/The_Ambulance</td>\n      <td>1990</td>\n      <td>https://www.imdb.com/title/tt0099026/</td>\n      <td>The Ambulance</td>\n      <td>NaN</td>\n      <td>[Eric Roberts, James Earl Jones, Red Buttons, ...</td>\n      <td>NaN</td>\n      <td>Jacques Haitkin</td>\n      <td>United States</td>\n      <td>English</td>\n      <td>...</td>\n      <td>[Claudia Finkle, Armond Leibowitz]</td>\n      <td>Jay Chattaway</td>\n      <td>[Larry Cohen, Moctesuma Esparza, Robert Katz]</td>\n      <td>Epic Productions</td>\n      <td>Larry Cohen</td>\n      <td>tt0099026</td>\n      <td>NaN</td>\n      <td>NaN</td>\n      <td>1990-03-22</td>\n      <td>95.0</td>\n    </tr>\n    <tr>\n      <th>6</th>\n      <td>https://en.wikipedia.org/wiki/American_Dream_(...</td>\n      <td>1990</td>\n      <td>https://www.imdb.com/title/tt0099028/</td>\n      <td>American Dream</td>\n      <td>NaN</td>\n      <td>NaN</td>\n      <td>NaN</td>\n      <td>[Tom Hurwitz, Mathieu Roberts, Nesya Shapiro]</td>\n      <td>[United States, United Kingdom]</td>\n      <td>English</td>\n      <td>...</td>\n      <td>[Cathy Caplan, Thomas Haneke, Lawrence Silk]</td>\n      <td>Michael Small</td>\n      <td>[Arthur Cohn, Barbara Kopple]</td>\n      <td>[Cabin Creek, Catholic Communication Campaign,...</td>\n      <td>NaN</td>\n      <td>tt0099028</td>\n      <td>NaN</td>\n      <td>NaN</td>\n      <td>1990-10-06</td>\n      <td>100.0</td>\n    </tr>\n    <tr>\n      <th>7</th>\n      <td>https://en.wikipedia.org/wiki/American_Ninja_4...</td>\n      <td>1990</td>\n      <td>https://www.imdb.com/title/tt0101326/</td>\n      <td>American Ninja 4: The Annihilation</td>\n      <td>NaN</td>\n      <td>[Michael Dudikoff, David Bradley, James Booth,...</td>\n      <td>NaN</td>\n      <td>NaN</td>\n      <td>[United States, Lesotho]</td>\n      <td>English</td>\n      <td>...</td>\n      <td>NaN</td>\n      <td>NaN</td>\n      <td>Ovidio G Assonitis</td>\n      <td>NaN</td>\n      <td>David Geeves</td>\n      <td>tt0101326</td>\n      <td>NaN</td>\n      <td>NaN</td>\n      <td>1991-03-08</td>\n      <td>99.0</td>\n    </tr>\n    <tr>\n      <th>8</th>\n      <td>https://en.wikipedia.org/wiki/Andre%27s_Mother</td>\n      <td>1990</td>\n      <td>https://www.imdb.com/title/tt0099037/</td>\n      <td>Andre's Mother</td>\n      <td>NaN</td>\n      <td>[Richard Thomas, Sada Thompson, Sylvia Sidney]</td>\n      <td>NaN</td>\n      <td>Bobby Bukowski</td>\n      <td>United States</td>\n      <td>English</td>\n      <td>...</td>\n      <td>Jeffrey Wolf</td>\n      <td>Jonathan Sheffer</td>\n      <td>[Sarah Green, Deborah Reinisch]</td>\n      <td>NaN</td>\n      <td>Terrence McNally</td>\n      <td>tt0099037</td>\n      <td>NaN</td>\n      <td>NaN</td>\n      <td>1990-03-07</td>\n      <td>50.0</td>\n    </tr>\n    <tr>\n      <th>9</th>\n      <td>https://en.wikipedia.org/wiki/Angel_Town_(film)</td>\n      <td>1990</td>\n      <td>https://www.imdb.com/title/tt0099039/</td>\n      <td>Angel Town</td>\n      <td>NaN</td>\n      <td>[Olivier Gruner, Theresa Saldana, Frank Aragon...</td>\n      <td>NaN</td>\n      <td>John LeBlanc</td>\n      <td>United States</td>\n      <td>English</td>\n      <td>...</td>\n      <td>Duane Hartzell</td>\n      <td>Terry Plumeri</td>\n      <td>[Ash R. Shah, Eric Karson]</td>\n      <td>NaN</td>\n      <td>S. Warren</td>\n      <td>tt0099039</td>\n      <td>855810.0</td>\n      <td>NaN</td>\n      <td>1990-02-23</td>\n      <td>102.0</td>\n    </tr>\n    <tr>\n      <th>10</th>\n      <td>https://en.wikipedia.org/wiki/Another_48_Hrs.</td>\n      <td>1990</td>\n      <td>https://www.imdb.com/title/tt0099044/</td>\n      <td>Another 48 Hrs.</td>\n      <td>[Characters by, Roger Spottiswoode, Walter Hil...</td>\n      <td>[Eddie Murphy, Nick Nolte, Brion James, Ed O'R...</td>\n      <td>NaN</td>\n      <td>Matthew F. Leonetti</td>\n      <td>United States</td>\n      <td>English</td>\n      <td>...</td>\n      <td>[Donn Aron, Carmel Davies, Freeman A. Davies, ...</td>\n      <td>James Horner</td>\n      <td>[Lawrence Gordon, Robert D. Wachs]</td>\n      <td>Eddie Murphy Productions</td>\n      <td>Fred Braughton</td>\n      <td>tt0099044</td>\n      <td>195300000.0</td>\n      <td>50000000.0</td>\n      <td>1990-06-08</td>\n      <td>93.0</td>\n    </tr>\n    <tr>\n      <th>11</th>\n      <td>https://en.wikipedia.org/wiki/Arachnophobia_(f...</td>\n      <td>1990</td>\n      <td>https://www.imdb.com/title/tt0099052/</td>\n      <td>Arachnophobia</td>\n      <td>NaN</td>\n      <td>[Jeff Daniels, Julian Sands, Harley Jane Kozak...</td>\n      <td>NaN</td>\n      <td>Mikael Salomon</td>\n      <td>United States</td>\n      <td>English</td>\n      <td>...</td>\n      <td>Michael Kahn</td>\n      <td>Trevor Jones</td>\n      <td>[Kathleen Kennedy, Richard Vane]</td>\n      <td>[Hollywood Pictures, Amblin Entertainment, Tan...</td>\n      <td>[Don Jakoby, Al Williams]</td>\n      <td>tt0099052</td>\n      <td>53200000.0</td>\n      <td>22000000.0</td>\n      <td>1990-07-18</td>\n      <td>110.0</td>\n    </tr>\n    <tr>\n      <th>12</th>\n      <td>https://en.wikipedia.org/wiki/Avalon_(1990_film)</td>\n      <td>1990</td>\n      <td>https://www.imdb.com/title/tt0099073/</td>\n      <td>Avalon</td>\n      <td>NaN</td>\n      <td>[Armin Mueller-Stahl, Elizabeth Perkins, Joan ...</td>\n      <td>NaN</td>\n      <td>Allen Daviau</td>\n      <td>United States</td>\n      <td>English</td>\n      <td>...</td>\n      <td>Stu Linder</td>\n      <td>Randy Newman</td>\n      <td>[Mark Johnson, Barry Levinson]</td>\n      <td>Baltimore Pictures</td>\n      <td>Barry Levinson</td>\n      <td>tt0099073</td>\n      <td>15700000.0</td>\n      <td>NaN</td>\n      <td>1990-10-05</td>\n      <td>126.0</td>\n    </tr>\n    <tr>\n      <th>13</th>\n      <td>https://en.wikipedia.org/wiki/Awakenings</td>\n      <td>1990</td>\n      <td>https://www.imdb.com/title/tt0099077/</td>\n      <td>Awakenings</td>\n      <td>[Awakenings, by, Oliver Sacks]</td>\n      <td>[Robert De Niro, Robin Williams, John Heard, J...</td>\n      <td>NaN</td>\n      <td>Miroslav Ondricek</td>\n      <td>United States</td>\n      <td>English</td>\n      <td>...</td>\n      <td>[Battle Davis, Jerry Greenberg]</td>\n      <td>Randy Newman</td>\n      <td>[Walter F. Parkes, Lawrence Lasker]</td>\n      <td>Lasker/Parkes Productions</td>\n      <td>Steven Zaillian</td>\n      <td>tt0099077</td>\n      <td>52100000.0</td>\n      <td>29000000.0</td>\n      <td>1990-12-20</td>\n      <td>121.0</td>\n    </tr>\n    <tr>\n      <th>14</th>\n      <td>https://en.wikipedia.org/wiki/Back_to_the_Futu...</td>\n      <td>1990</td>\n      <td>https://www.imdb.com/title/tt0099088/</td>\n      <td>Back to the Future Part III</td>\n      <td>NaN</td>\n      <td>[Michael J. Fox, Christopher Lloyd, Mary Steen...</td>\n      <td>NaN</td>\n      <td>Dean Cundey</td>\n      <td>United States</td>\n      <td>English</td>\n      <td>...</td>\n      <td>[Harry Keramidas, Arthur Schmidt]</td>\n      <td>Alan Silvestri</td>\n      <td>[Neil Canton, Bob Gale]</td>\n      <td>[Amblin Entertainment, [1], Universal Pictures...</td>\n      <td>[Robert Zemeckis, Bob Gale]</td>\n      <td>tt0099088</td>\n      <td>244500000.0</td>\n      <td>40000000.0</td>\n      <td>1990-05-25</td>\n      <td>118.0</td>\n    </tr>\n    <tr>\n      <th>15</th>\n      <td>https://en.wikipedia.org/wiki/Bad_Influence_(f...</td>\n      <td>1990</td>\n      <td>https://www.imdb.com/title/tt0099091/</td>\n      <td>Bad Influence</td>\n      <td>NaN</td>\n      <td>[Rob Lowe, James Spader]</td>\n      <td>NaN</td>\n      <td>Robert Elswit</td>\n      <td>United States</td>\n      <td>English</td>\n      <td>...</td>\n      <td>Bonnie Koehler</td>\n      <td>Trevor Jones</td>\n      <td>Steve Tisch</td>\n      <td>Epic Productions</td>\n      <td>David Koepp</td>\n      <td>tt0099091</td>\n      <td>12626043.0</td>\n      <td>7000000.0</td>\n      <td>1990-03-09</td>\n      <td>99.0</td>\n    </tr>\n    <tr>\n      <th>16</th>\n      <td>https://en.wikipedia.org/wiki/Basket_Case_2</td>\n      <td>1990</td>\n      <td>https://www.imdb.com/title/tt0099108/</td>\n      <td>Basket Case 2</td>\n      <td>NaN</td>\n      <td>Kevin Van Hentenryck</td>\n      <td>NaN</td>\n      <td>Robert M. Baldwin</td>\n      <td>NaN</td>\n      <td>English</td>\n      <td>...</td>\n      <td>Kevin Tent</td>\n      <td>Joe Renzetti</td>\n      <td>Edgar Ievins</td>\n      <td>NaN</td>\n      <td>Frank Henenlotter</td>\n      <td>tt0099108</td>\n      <td>NaN</td>\n      <td>2500000.0</td>\n      <td>1990-03-02</td>\n      <td>90.0</td>\n    </tr>\n    <tr>\n      <th>17</th>\n      <td>https://en.wikipedia.org/wiki/Betsy%27s_Wedding</td>\n      <td>1990</td>\n      <td>https://www.imdb.com/title/tt0099128/</td>\n      <td>Betsy's Wedding</td>\n      <td>NaN</td>\n      <td>[Alan Alda, Joey Bishop, Madeline Kahn, Cather...</td>\n      <td>NaN</td>\n      <td>Kelvin Pike</td>\n      <td>United States</td>\n      <td>English</td>\n      <td>...</td>\n      <td>Michael E. Polakow</td>\n      <td>Bruce Broughton</td>\n      <td>[Martin Bregman, Louis A. Stroller]</td>\n      <td>Touchstone Pictures</td>\n      <td>Alan Alda</td>\n      <td>tt0099128</td>\n      <td>19740070.0</td>\n      <td>NaN</td>\n      <td>1990-06-22</td>\n      <td>94.0</td>\n    </tr>\n    <tr>\n      <th>18</th>\n      <td>https://en.wikipedia.org/wiki/Bird_on_a_Wire_(...</td>\n      <td>1990</td>\n      <td>https://www.imdb.com/title/tt0099141/</td>\n      <td>Bird on a Wire</td>\n      <td>NaN</td>\n      <td>[Mel Gibson, Goldie Hawn, David Carradine, Bil...</td>\n      <td>NaN</td>\n      <td>Robert Primes</td>\n      <td>United States</td>\n      <td>English</td>\n      <td>...</td>\n      <td>[Frank Morriss, Dallas Puett]</td>\n      <td>Hans Zimmer</td>\n      <td>Rob Cohen</td>\n      <td>[Interscope Communications, The Badham/Cohen G...</td>\n      <td>[Louis Venosta, David Seltzer]</td>\n      <td>tt0099141</td>\n      <td>138697012.0</td>\n      <td>20000000.0</td>\n      <td>1990-05-18</td>\n      <td>110.0</td>\n    </tr>\n    <tr>\n      <th>19</th>\n      <td>https://en.wikipedia.org/wiki/Blind_Faith_(199...</td>\n      <td>1990</td>\n      <td>https://www.imdb.com/title/tt0099148/</td>\n      <td>Blind Faith</td>\n      <td>[Blind Faith, by, Joe McGinniss]</td>\n      <td>[Robert Urich, Joanna Kerns, David Barry Gray,...</td>\n      <td>NaN</td>\n      <td>Chuck Arnold</td>\n      <td>United States</td>\n      <td>NaN</td>\n      <td>...</td>\n      <td>[Christopher Cooke, James Galloway]</td>\n      <td>Laurence Rosenthal</td>\n      <td>[Susan Baerwald (executive producer), Dan Wigu...</td>\n      <td>NBC Productions</td>\n      <td>Joe McGinniss</td>\n      <td>tt0099148</td>\n      <td>NaN</td>\n      <td>NaN</td>\n      <td>1990-02-11</td>\n      <td>190.0</td>\n    </tr>\n  </tbody>\n</table>\n<p>20 rows × 22 columns</p>\n</div>"
     },
     "execution_count": 90,
     "metadata": {},
     "output_type": "execute_result"
    }
   ],
   "source": [
    "# 20. Check that the wiki_movies_df DataFrame looks like this.\n",
    "wiki_movies_df.drop(wiki_movies_df.loc[:, 'Genre':'Color process'].columns, axis=1, inplace=True)\n",
    "wiki_movies_df.head(20)"
   ]
  },
  {
   "cell_type": "code",
   "execution_count": 91,
   "metadata": {},
   "outputs": [
    {
     "data": {
      "text/plain": "['url',\n 'year',\n 'imdb_link',\n 'title',\n 'Based on',\n 'Starring',\n 'Narrated by',\n 'Cinematography',\n 'Country',\n 'Language',\n 'Director',\n 'Distributor',\n 'Editor(s)',\n 'Composer(s)',\n 'Producer(s)',\n 'Production company(s)',\n 'Writer(s)',\n 'imdb_id',\n 'box_office',\n 'budget',\n 'release_date',\n 'running_time']"
     },
     "execution_count": 91,
     "metadata": {},
     "output_type": "execute_result"
    }
   ],
   "source": [
    "# 21. Check that wiki_movies_df DataFrame columns are correct. \n",
    "wiki_movies_df.columns.to_list()"
   ]
  },
  {
   "cell_type": "code",
   "execution_count": 91,
   "metadata": {},
   "outputs": [],
   "source": []
  }
 ],
 "metadata": {
  "kernelspec": {
   "name": "python3",
   "language": "python",
   "display_name": "Python 3"
  },
  "language_info": {
   "codemirror_mode": {
    "name": "ipython",
    "version": 3
   },
   "file_extension": ".py",
   "mimetype": "text/x-python",
   "name": "python",
   "nbconvert_exporter": "python",
   "pygments_lexer": "ipython3",
   "version": "3.7.7"
  }
 },
 "nbformat": 4,
 "nbformat_minor": 2
}